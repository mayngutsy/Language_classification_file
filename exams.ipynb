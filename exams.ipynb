{
 "cells": [
  {
   "cell_type": "markdown",
   "id": "8029177a",
   "metadata": {},
   "source": [
    "## Language Identification Challenge"
   ]
  },
  {
   "cell_type": "markdown",
   "id": "2461618c",
   "metadata": {},
   "source": [
    "### By **Moses Ubaku**"
   ]
  },
  {
   "cell_type": "markdown",
   "id": "d026230a",
   "metadata": {},
   "source": [
    "## Description\n",
    "South Africa is a multicultural society that is characterised by its rich linguistic diversity. In This challenge we will take text in any of the 11 official languages and train our classification model to understand which languge the text is in.\n"
   ]
  },
  {
   "cell_type": "code",
   "execution_count": 108,
   "id": "fb8011aa",
   "metadata": {},
   "outputs": [],
   "source": [
    "#importing dependencies\n",
    "import numpy as np\n",
    "import pandas as pd\n",
    "from matplotlib import pyplot as plt\n",
    "import seaborn as sns\n",
    "\n",
    "from sklearn.ensemble import StackingClassifier\n",
    "from sklearn.svm import SVC\n",
    "from sklearn.naive_bayes import MultinomialNB\n",
    "from sklearn.model_selection import train_test_split\n",
    "from nltk.corpus import stopwords\n",
    "from sklearn.linear_model import LogisticRegression\n",
    "from sklearn import preprocessing\n",
    "from sklearn.metrics import accuracy_score\n",
    "from sklearn.metrics import classification_report\n",
    "\n",
    "from sklearn.pipeline import Pipeline\n",
    "from sklearn.model_selection import GridSearchCV"
   ]
  },
  {
   "cell_type": "code",
   "execution_count": 109,
   "id": "e9b8d0f8",
   "metadata": {},
   "outputs": [],
   "source": [
    "stopwords_list = stopwords.words('english')"
   ]
  },
  {
   "cell_type": "code",
   "execution_count": 110,
   "id": "64144a21",
   "metadata": {},
   "outputs": [],
   "source": [
    "#Read data\n",
    "train_set = pd.read_csv('train_set.csv')\n",
    "test_set = pd.read_csv('test_set.csv')"
   ]
  },
  {
   "cell_type": "code",
   "execution_count": 111,
   "id": "ad90a234",
   "metadata": {},
   "outputs": [
    {
     "data": {
      "text/html": [
       "<div>\n",
       "<style scoped>\n",
       "    .dataframe tbody tr th:only-of-type {\n",
       "        vertical-align: middle;\n",
       "    }\n",
       "\n",
       "    .dataframe tbody tr th {\n",
       "        vertical-align: top;\n",
       "    }\n",
       "\n",
       "    .dataframe thead th {\n",
       "        text-align: right;\n",
       "    }\n",
       "</style>\n",
       "<table border=\"1\" class=\"dataframe\">\n",
       "  <thead>\n",
       "    <tr style=\"text-align: right;\">\n",
       "      <th></th>\n",
       "      <th>lang_id</th>\n",
       "      <th>text</th>\n",
       "    </tr>\n",
       "  </thead>\n",
       "  <tbody>\n",
       "    <tr>\n",
       "      <th>0</th>\n",
       "      <td>xho</td>\n",
       "      <td>umgaqo-siseko wenza amalungiselelo kumaziko ax...</td>\n",
       "    </tr>\n",
       "    <tr>\n",
       "      <th>1</th>\n",
       "      <td>xho</td>\n",
       "      <td>i-dha iya kuba nobulumko bokubeka umsebenzi na...</td>\n",
       "    </tr>\n",
       "    <tr>\n",
       "      <th>2</th>\n",
       "      <td>eng</td>\n",
       "      <td>the province of kwazulu-natal department of tr...</td>\n",
       "    </tr>\n",
       "    <tr>\n",
       "      <th>3</th>\n",
       "      <td>nso</td>\n",
       "      <td>o netefatša gore o ba file dilo ka moka tše le...</td>\n",
       "    </tr>\n",
       "    <tr>\n",
       "      <th>4</th>\n",
       "      <td>ven</td>\n",
       "      <td>khomishini ya ndinganyiso ya mbeu yo ewa maana...</td>\n",
       "    </tr>\n",
       "  </tbody>\n",
       "</table>\n",
       "</div>"
      ],
      "text/plain": [
       "  lang_id                                               text\n",
       "0     xho  umgaqo-siseko wenza amalungiselelo kumaziko ax...\n",
       "1     xho  i-dha iya kuba nobulumko bokubeka umsebenzi na...\n",
       "2     eng  the province of kwazulu-natal department of tr...\n",
       "3     nso  o netefatša gore o ba file dilo ka moka tše le...\n",
       "4     ven  khomishini ya ndinganyiso ya mbeu yo ewa maana..."
      ]
     },
     "execution_count": 111,
     "metadata": {},
     "output_type": "execute_result"
    }
   ],
   "source": [
    "train_set.head()"
   ]
  },
  {
   "cell_type": "code",
   "execution_count": 112,
   "id": "efa7c6aa",
   "metadata": {},
   "outputs": [
    {
     "data": {
      "text/plain": [
       "'nanome bavuma babuye bahlonipha lilungelo lelicembu lelibusako kutsi lilungise tindzaba talo bakhatsatekile kutsi kumele lichubeke nekudlala indzima yalo njengebasunguli labakhulu beningizimu afrika yentsandvo yelinyenti lengavuni buhlanga lengavuni bulili nalenenchubekelembili'"
      ]
     },
     "execution_count": 112,
     "metadata": {},
     "output_type": "execute_result"
    }
   ],
   "source": [
    "train_set.iloc[400]['text']"
   ]
  },
  {
   "cell_type": "code",
   "execution_count": 113,
   "id": "8a988cab",
   "metadata": {},
   "outputs": [],
   "source": [
    "import re\n",
    "\n",
    "REPLACE_BY_SPACE_RE = re.compile('[/(){}\\[\\]\\|@,;]')\n",
    "BAD_SYMBOLS_RE = re.compile('[^0-9a-z #+_]')\n",
    "#STOPWORDS = set(stopwords.words('english'))\n",
    "\n",
    "def clean_text(x):\n",
    "    \"\"\"\n",
    "        text: a string\n",
    "        \n",
    "        return: modified initial string\n",
    "    \"\"\"\n",
    "    x = re.sub(r'[/(){}\\[\\]\\|@,;]',' ',x)\n",
    "    x = re.sub(r'[^0-9a-z #+_]',' ',x)\n",
    "    x = re.sub(r'[-]',' ',x)\n",
    "    x = re.sub(r'[_]', ' ', x)\n",
    "    x = re.sub(r'[^\\w\\s]','',x)\n",
    "    x = re.sub('[0-9]+', '', x)\n",
    "    x = re.sub(r'[^\\x00-\\x7f]',r'', x)\n",
    "    x = ' '.join(word for word in x.split() if word not in stopwords_list)\n",
    "    return x\n",
    "    \n",
    "train_set['text'] = train_set['text'].apply(clean_text)\n",
    "test_set['text'] = test_set['text'].apply(clean_text)"
   ]
  },
  {
   "cell_type": "code",
   "execution_count": 114,
   "id": "3c08cde9",
   "metadata": {},
   "outputs": [
    {
     "data": {
      "text/plain": [
       "(33000, 2)"
      ]
     },
     "execution_count": 114,
     "metadata": {},
     "output_type": "execute_result"
    }
   ],
   "source": [
    "train_set.shape"
   ]
  },
  {
   "cell_type": "code",
   "execution_count": 115,
   "id": "5665f1cf",
   "metadata": {},
   "outputs": [
    {
     "data": {
      "text/html": [
       "<div>\n",
       "<style scoped>\n",
       "    .dataframe tbody tr th:only-of-type {\n",
       "        vertical-align: middle;\n",
       "    }\n",
       "\n",
       "    .dataframe tbody tr th {\n",
       "        vertical-align: top;\n",
       "    }\n",
       "\n",
       "    .dataframe thead th {\n",
       "        text-align: right;\n",
       "    }\n",
       "</style>\n",
       "<table border=\"1\" class=\"dataframe\">\n",
       "  <thead>\n",
       "    <tr style=\"text-align: right;\">\n",
       "      <th></th>\n",
       "      <th>index</th>\n",
       "      <th>text</th>\n",
       "    </tr>\n",
       "  </thead>\n",
       "  <tbody>\n",
       "    <tr>\n",
       "      <th>0</th>\n",
       "      <td>1</td>\n",
       "      <td>masepala fa maemo kgethegileng letlelela kgato eo</td>\n",
       "    </tr>\n",
       "    <tr>\n",
       "      <th>1</th>\n",
       "      <td>2</td>\n",
       "      <td>zakwaziswa ngokufaneleko nakungafuneka eminye ...</td>\n",
       "    </tr>\n",
       "    <tr>\n",
       "      <th>2</th>\n",
       "      <td>3</td>\n",
       "      <td>shivhumbeo tshi fana na ngano dza vhathu</td>\n",
       "    </tr>\n",
       "    <tr>\n",
       "      <th>3</th>\n",
       "      <td>4</td>\n",
       "      <td>ube inja nelikati betingevakala kutsi titsini ...</td>\n",
       "    </tr>\n",
       "    <tr>\n",
       "      <th>4</th>\n",
       "      <td>5</td>\n",
       "      <td>inste op buitelandse valuta</td>\n",
       "    </tr>\n",
       "    <tr>\n",
       "      <th>5</th>\n",
       "      <td>6</td>\n",
       "      <td>e feela dilense e hlakilego pono e tee goba e ...</td>\n",
       "    </tr>\n",
       "    <tr>\n",
       "      <th>6</th>\n",
       "      <td>7</td>\n",
       "      <td>fn inal ems irthing ptions txt fn</td>\n",
       "    </tr>\n",
       "    <tr>\n",
       "      <th>7</th>\n",
       "      <td>8</td>\n",
       "      <td>tjhafatso ya konteraka ya mosebetsi tsa bonnet...</td>\n",
       "    </tr>\n",
       "    <tr>\n",
       "      <th>8</th>\n",
       "      <td>9</td>\n",
       "      <td>u uhlinzeka ngezinzuzo zemithi yezifo ezingaph...</td>\n",
       "    </tr>\n",
       "    <tr>\n",
       "      <th>9</th>\n",
       "      <td>10</td>\n",
       "      <td>occasion statistics misused</td>\n",
       "    </tr>\n",
       "  </tbody>\n",
       "</table>\n",
       "</div>"
      ],
      "text/plain": [
       "   index                                               text\n",
       "0      1  masepala fa maemo kgethegileng letlelela kgato eo\n",
       "1      2  zakwaziswa ngokufaneleko nakungafuneka eminye ...\n",
       "2      3           shivhumbeo tshi fana na ngano dza vhathu\n",
       "3      4  ube inja nelikati betingevakala kutsi titsini ...\n",
       "4      5                        inste op buitelandse valuta\n",
       "5      6  e feela dilense e hlakilego pono e tee goba e ...\n",
       "6      7                  fn inal ems irthing ptions txt fn\n",
       "7      8  tjhafatso ya konteraka ya mosebetsi tsa bonnet...\n",
       "8      9  u uhlinzeka ngezinzuzo zemithi yezifo ezingaph...\n",
       "9     10                        occasion statistics misused"
      ]
     },
     "execution_count": 115,
     "metadata": {},
     "output_type": "execute_result"
    }
   ],
   "source": [
    "test_set.head(10)"
   ]
  },
  {
   "cell_type": "markdown",
   "id": "7bf0887c",
   "metadata": {},
   "source": [
    "Lets check if there are null values in the dataset"
   ]
  },
  {
   "cell_type": "code",
   "execution_count": 116,
   "id": "1c776512",
   "metadata": {},
   "outputs": [
    {
     "data": {
      "text/plain": [
       "lang_id    0\n",
       "text       0\n",
       "dtype: int64"
      ]
     },
     "execution_count": 116,
     "metadata": {},
     "output_type": "execute_result"
    }
   ],
   "source": [
    "train_set.isnull().sum()"
   ]
  },
  {
   "cell_type": "code",
   "execution_count": 117,
   "id": "46502475",
   "metadata": {},
   "outputs": [
    {
     "data": {
      "text/plain": [
       "index    0\n",
       "text     0\n",
       "dtype: int64"
      ]
     },
     "execution_count": 117,
     "metadata": {},
     "output_type": "execute_result"
    }
   ],
   "source": [
    "test_set.isnull().sum()"
   ]
  },
  {
   "cell_type": "markdown",
   "id": "8d1bc263",
   "metadata": {},
   "source": [
    "Now we have to split the training data set into featueres and response "
   ]
  },
  {
   "cell_type": "code",
   "execution_count": 249,
   "id": "f0a4153d",
   "metadata": {},
   "outputs": [],
   "source": [
    "X_train = train_set['text']\n",
    "\n",
    "y_train = train_set['lang_id']"
   ]
  },
  {
   "cell_type": "markdown",
   "id": "cf6e6ecb",
   "metadata": {},
   "source": [
    "Lets then check how many unique languages are available here"
   ]
  },
  {
   "cell_type": "code",
   "execution_count": 250,
   "id": "f91e1c15",
   "metadata": {},
   "outputs": [
    {
     "data": {
      "text/plain": [
       "['xho', 'eng', 'nso', 'ven', 'tsn', 'nbl', 'zul', 'ssw', 'tso', 'sot', 'afr']"
      ]
     },
     "execution_count": 250,
     "metadata": {},
     "output_type": "execute_result"
    }
   ],
   "source": [
    "# retrurn a list of unique lang_id\n",
    "list(y_train.unique())\n"
   ]
  },
  {
   "cell_type": "markdown",
   "id": "d1a47e8b",
   "metadata": {},
   "source": [
    "Next lets plot the spread of the languages"
   ]
  },
  {
   "cell_type": "code",
   "execution_count": 251,
   "id": "4774f633",
   "metadata": {},
   "outputs": [
    {
     "data": {
      "image/png": "[encoded data removed]",
      "text/plain": [
       "<Figure size 432x288 with 1 Axes>"
      ]
     },
     "metadata": {
      "needs_background": "light"
     },
     "output_type": "display_data"
    }
   ],
   "source": [
    "y_train.value_counts().plot(kind = 'bar')\n",
    "plt.show()"
   ]
  },
  {
   "cell_type": "markdown",
   "id": "19b68e97",
   "metadata": {},
   "source": [
    "We seem to have a very balanced data set"
   ]
  },
  {
   "cell_type": "markdown",
   "id": "2b0dbd00",
   "metadata": {},
   "source": [
    "Now we will use **CountVectorizer** to tranform text to numbers"
   ]
  },
  {
   "cell_type": "code",
   "execution_count": 252,
   "id": "8fb1f194",
   "metadata": {},
   "outputs": [],
   "source": [
    "#Lets tokenize the words\n",
    "from sklearn.feature_extraction.text import CountVectorizer, TfidfVectorizer, TfidfTransformer\n",
    "from sklearn.preprocessing import LabelEncoder\n",
    "from sklearn.model_selection import KFold"
   ]
  },
  {
   "cell_type": "markdown",
   "id": "4fe728fb",
   "metadata": {},
   "source": [
    "We want to check our training outcome first by using test set from our training data"
   ]
  },
  {
   "cell_type": "code",
   "execution_count": 253,
   "id": "9a96f9d4",
   "metadata": {},
   "outputs": [],
   "source": [
    "encod = LabelEncoder()\n",
    "y_train= encod.fit_transform(y_train)\n",
    "\n",
    "reverse = list(encod.classes_)\n"
   ]
  },
  {
   "cell_type": "code",
   "execution_count": 233,
   "id": "e40b26f0",
   "metadata": {},
   "outputs": [
    {
     "name": "stdout",
     "output_type": "stream",
     "text": [
      "0.9981818181818182\n"
     ]
    }
   ],
   "source": [
    "#IGNORE THESE COMMENTS\n",
    "\n",
    "#vect = CountVectorizer(max_features=25)\n",
    "#x_fit = vect.fit_transform(X_train.values.astype(str))\n",
    "#X_train_ = x_fit.toarray()\n",
    "\n",
    "#could us TfidfTransformer to convert CountVectorizer output to Tfid metrics, but would produce a poorer prediction\n",
    "#tf = TfidfTransformer(norm='l2')\n",
    "\n",
    "\n",
    "X_train_, X_test_, y_train_, y_test_ = train_test_split(X_train, y_train,  test_size = 0.2, random_state=42)\n",
    "\n",
    "\n",
    "tf = TfidfVectorizer(stop_words = 'english', max_df=0.9, ngram_range=(1, 5), analyzer= 'char')\n",
    "X_train_ = tf.fit_transform(X_train_)\n",
    "\n",
    "\n",
    "lreg = LogisticRegression(multi_class='ovr', max_iter = 1000, solver = 'sag')\n",
    "lreg.fit(X_train_, y_train_)\n",
    "\n",
    "\n",
    "#testset transformation\n",
    "\n",
    "X_test_ = tf.transform(X_test_)\n",
    "y_pred = lreg.predict(X_test_)\n",
    "\n",
    "print(accuracy_score(y_test_, y_pred))\n",
    "#print(classification_report(y_test_, y_pred))\n"
   ]
  },
  {
   "cell_type": "code",
   "execution_count": 254,
   "id": "343100ee",
   "metadata": {},
   "outputs": [
    {
     "data": {
      "text/plain": [
       "(33000, 337756)"
      ]
     },
     "execution_count": 254,
     "metadata": {},
     "output_type": "execute_result"
    }
   ],
   "source": [
    "X_train_.shape"
   ]
  },
  {
   "cell_type": "markdown",
   "id": "2a812d52",
   "metadata": {},
   "source": [
    "We achieve great performance here. \n",
    "Lets then fit our test to this Logistic regression"
   ]
  },
  {
   "cell_type": "code",
   "execution_count": 255,
   "id": "a72d456e",
   "metadata": {},
   "outputs": [
    {
     "data": {
      "text/plain": [
       "['afr', 'eng', 'nbl', 'nso', 'sot', 'ssw', 'tsn', 'tso', 'ven', 'xho', 'zul']"
      ]
     },
     "execution_count": 255,
     "metadata": {},
     "output_type": "execute_result"
    }
   ],
   "source": [
    "#result = encod.inverse_transform(reverse)\n",
    "reverse"
   ]
  },
  {
   "cell_type": "markdown",
   "id": "87cdf3eb",
   "metadata": {},
   "source": [
    "Its already obvious that we now have way to many features so we would have to tream that to only 25 and tweaking some parameters"
   ]
  },
  {
   "cell_type": "code",
   "execution_count": 256,
   "id": "1cae1a38",
   "metadata": {},
   "outputs": [],
   "source": [
    "#IGNORE THESE COMMENTS\n",
    "#Esstimator for StackingClassifier\n",
    "\n",
    "#Mnomia = MultinomialNB(alpha = 0.1 )\n",
    "#svc = SVC()\n",
    "lreg = LogisticRegression(multi_class='ovr', max_iter = 1000, solver = 'sag')\n",
    "\n"
   ]
  },
  {
   "cell_type": "code",
   "execution_count": 257,
   "id": "4108bb7f",
   "metadata": {},
   "outputs": [],
   "source": [
    "#IGNORE THESE COMMENTS\n",
    "#cv = KFold(n_splits = 10)"
   ]
  },
  {
   "cell_type": "code",
   "execution_count": 258,
   "id": "2c1506c3",
   "metadata": {},
   "outputs": [],
   "source": [
    "#IGNORE THESE COMMENTS\n",
    "\n",
    "#vectorize = CountVectorizer(max_features=25)\n",
    "#x_fit = vectorize.fit_transform(X_train.values.astype(str))\n",
    "\n",
    "#features = vectorize.get_feature_names_out()\n",
    "\n",
    "#X_train = x_fit.toarray()\n"
   ]
  },
  {
   "cell_type": "code",
   "execution_count": 259,
   "id": "42405a09",
   "metadata": {},
   "outputs": [
    {
     "data": {
      "text/plain": [
       "\"\\n    parameter = {'kernel': ('linear', 'rbf'),\\n                 'C': (0.1, 0.2),\\n                'gamma' : (1,2)\\n                }\\n\\n    svg_grid = GridSearchCV(esimator = svc, \\n                            param_grid = parameter, \\n                            scoring = 'f1_weighted', \\n                            n_jobs = -1, \\n                            error_score = 0,\\n                            cv = cv)\\n\\n    estimator =[('Binomial', Mnomia), ('svg', svg_grid)]\\n\\n    final_est = lreg\\n\""
      ]
     },
     "execution_count": 259,
     "metadata": {},
     "output_type": "execute_result"
    }
   ],
   "source": [
    "\"\"\"\n",
    "    parameter = {'kernel': ('linear', 'rbf'),\n",
    "                 'C': (0.1, 0.2),\n",
    "                'gamma' : (1,2)\n",
    "                }\n",
    "\n",
    "    svg_grid = GridSearchCV(esimator = svc, \n",
    "                            param_grid = parameter, \n",
    "                            scoring = 'f1_weighted', \n",
    "                            n_jobs = -1, \n",
    "                            error_score = 0,\n",
    "                            cv = cv)\n",
    "\n",
    "    estimator =[('Binomial', Mnomia), ('svg', svg_grid)]\n",
    "\n",
    "    final_est = lreg\n",
    "\"\"\""
   ]
  },
  {
   "cell_type": "code",
   "execution_count": 260,
   "id": "4340ac1e",
   "metadata": {},
   "outputs": [],
   "source": [
    "#stackingClf = StackingClassifier(estimators = estimator, final_estimator = final_est, passthrough = True)"
   ]
  },
  {
   "cell_type": "code",
   "execution_count": 262,
   "id": "5066596f",
   "metadata": {},
   "outputs": [],
   "source": [
    "#tf = TfidfVectorizer(stop_words = 'english', max_df=0.9, ngram_range=(1, 5), analyzer= 'char')\n",
    "#X_train = tf.fit_transform(X_train)\n",
    "\n",
    "vect = TfidfVectorizer(stop_words = 'english', max_df=0.9, ngram_range=(1, 5), analyzer= 'char')\n",
    "X_train = vect.fit_transform(X_train)"
   ]
  },
  {
   "cell_type": "code",
   "execution_count": 263,
   "id": "892f2ea2",
   "metadata": {},
   "outputs": [
    {
     "data": {
      "text/plain": [
       "(33000, 337756)"
      ]
     },
     "execution_count": 263,
     "metadata": {},
     "output_type": "execute_result"
    }
   ],
   "source": [
    "X_train.shape"
   ]
  },
  {
   "cell_type": "code",
   "execution_count": 264,
   "id": "8c0ac71e",
   "metadata": {},
   "outputs": [
    {
     "data": {
      "text/plain": [
       "(33000,)"
      ]
     },
     "execution_count": 264,
     "metadata": {},
     "output_type": "execute_result"
    }
   ],
   "source": [
    "y_train.shape"
   ]
  },
  {
   "cell_type": "markdown",
   "id": "a69d4bbe",
   "metadata": {},
   "source": [
    "Lets go ahaed and transform the test data as well"
   ]
  },
  {
   "cell_type": "code",
   "execution_count": 265,
   "id": "4ec8581b",
   "metadata": {},
   "outputs": [],
   "source": [
    "X_test = test_set['text']\n",
    "y_test = test_set['index']\n",
    "\n",
    "\n",
    "X_test = vect.transform(X_test)\n"
   ]
  },
  {
   "cell_type": "code",
   "execution_count": 266,
   "id": "aeaaa341",
   "metadata": {},
   "outputs": [
    {
     "data": {
      "text/plain": [
       "(5682, 337756)"
      ]
     },
     "execution_count": 266,
     "metadata": {},
     "output_type": "execute_result"
    }
   ],
   "source": [
    "X_test.shape"
   ]
  },
  {
   "cell_type": "code",
   "execution_count": 267,
   "id": "e8610f0f",
   "metadata": {},
   "outputs": [],
   "source": [
    "#IGNORE THIS COMMENT\n",
    "#stackingClf.fit(X_train, y_train)\n",
    "\n",
    "#y_pred = stackingClf.predict(X_test)"
   ]
  },
  {
   "cell_type": "code",
   "execution_count": 268,
   "id": "0ab75d2d",
   "metadata": {},
   "outputs": [
    {
     "data": {
      "text/plain": [
       "LogisticRegression(max_iter=1000, multi_class='ovr', solver='sag')"
      ]
     },
     "execution_count": 268,
     "metadata": {},
     "output_type": "execute_result"
    }
   ],
   "source": [
    "lreg.fit(X_train, y_train)"
   ]
  },
  {
   "cell_type": "code",
   "execution_count": 269,
   "id": "aa6c0399",
   "metadata": {},
   "outputs": [],
   "source": [
    "y_pred = lreg.predict(X_test)"
   ]
  },
  {
   "cell_type": "code",
   "execution_count": 270,
   "id": "8a074233",
   "metadata": {},
   "outputs": [
    {
     "name": "stdout",
     "output_type": "stream",
     "text": [
      "0.00017599436818021823\n"
     ]
    },
    {
     "data": {
      "text/plain": [
       "(5682,)"
      ]
     },
     "execution_count": 270,
     "metadata": {},
     "output_type": "execute_result"
    }
   ],
   "source": [
    "print(accuracy_score(y_test, y_pred))\n",
    "#print(classification_report(y_test, y_pred))\n",
    "y_pred.shape"
   ]
  },
  {
   "cell_type": "markdown",
   "id": "53412691",
   "metadata": {},
   "source": [
    "Now let revert the result from numbers to their respective string ['lang_id']"
   ]
  },
  {
   "cell_type": "code",
   "execution_count": 271,
   "id": "161f470a",
   "metadata": {},
   "outputs": [
    {
     "data": {
      "text/plain": [
       "array(['tsn', 'nbl', 'ven', ..., 'sot', 'sot', 'nbl'], dtype=object)"
      ]
     },
     "execution_count": 271,
     "metadata": {},
     "output_type": "execute_result"
    }
   ],
   "source": [
    "y_pred = encod.inverse_transform(y_pred)\n",
    "y_pred"
   ]
  },
  {
   "cell_type": "code",
   "execution_count": 272,
   "id": "8ba3f402",
   "metadata": {},
   "outputs": [],
   "source": [
    "test_set['lang_id'] = y_pred"
   ]
  },
  {
   "cell_type": "code",
   "execution_count": 273,
   "id": "28766a4c",
   "metadata": {
    "scrolled": true
   },
   "outputs": [],
   "source": [
    "submission = test_set[['index','lang_id']]"
   ]
  },
  {
   "cell_type": "code",
   "execution_count": 274,
   "id": "bef5e7b1",
   "metadata": {},
   "outputs": [],
   "source": [
    "submission.to_csv('submission.csv', index = False)"
   ]
  }
 ],
 "metadata": {
  "kernelspec": {
   "display_name": "Python 3 (ipykernel)",
   "language": "python",
   "name": "python3"
  },
  "language_info": {
   "codemirror_mode": {
    "name": "ipython",
    "version": 3
   },
   "file_extension": ".py",
   "mimetype": "text/x-python",
   "name": "python",
   "nbconvert_exporter": "python",
   "pygments_lexer": "ipython3",
   "version": "3.9.12"
  }
 },
 "nbformat": 4,
 "nbformat_minor": 5
}
